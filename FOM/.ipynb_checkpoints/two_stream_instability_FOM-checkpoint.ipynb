{
 "cells": [
  {
   "cell_type": "code",
   "execution_count": 1,
   "id": "e3a4090d-2f55-444d-aca8-008353a8cdc2",
   "metadata": {},
   "outputs": [],
   "source": [
    "import sys, os\n",
    "sys.path.append(os.path.abspath(os.path.join('..')))"
   ]
  },
  {
   "cell_type": "code",
   "execution_count": 2,
   "id": "7e0ba9e6-c4a3-45ee-90bf-a2197c7b85c5",
   "metadata": {},
   "outputs": [],
   "source": [
    "import numpy as np \n",
    "from operators.FOM import charge_density_two_stream\n",
    "from operators.setup_FOM_two_stream import SimulationSetupTwoStreamFOM\n",
    "from operators.FOM import total_mass, total_momentum, total_energy_k, psi_ln_aw\n",
    "import scipy\n",
    "from operators.poisson_solver import linear_solver_v2, gmres_solver"
   ]
  },
  {
   "cell_type": "code",
   "execution_count": 3,
   "id": "87513ebe-70e1-4ecb-9d38-f96d561c0ea2",
   "metadata": {},
   "outputs": [],
   "source": [
    "%matplotlib inline\n",
    "import matplotlib\n",
    "font = {'family' : 'serif',\n",
    "        'size'   : 14}\n",
    "\n",
    "matplotlib.rc('font', **font)\n",
    "matplotlib.rc('xtick', labelsize=14) \n",
    "matplotlib.rc('ytick', labelsize=14) \n",
    "\n",
    "import matplotlib.pyplot as plt\n",
    "from matplotlib import animation\n",
    "from IPython.display import HTML\n",
    "\n",
    "plt.rcParams['figure.figsize'] = (5,3)\n",
    "plt.rcParams['figure.dpi'] = 100\n",
    "plt.rcParams['savefig.dpi'] = 100\n",
    "plt.rcParams[\"animation.html\"] = \"jshtml\"  # for matplotlib 2.1 and above, uses JavaScript\n",
    "#plt.rcParams[\"animation.html\"] = \"html5\" # for matplotlib 2.0 and below, converts to x264 using ffmpeg video codec"
   ]
  },
  {
   "cell_type": "markdown",
   "id": "8fedf8f4-72f5-41dc-af85-223a2d943281",
   "metadata": {},
   "source": [
    "# Two Stream Instability "
   ]
  },
  {
   "cell_type": "code",
   "execution_count": 4,
   "id": "afd9adfe-d85c-498e-a6df-590d709e0f1a",
   "metadata": {},
   "outputs": [],
   "source": [
    "setup = SimulationSetupTwoStreamFOM(Nx=251,\n",
    "                                    Nv=350,\n",
    "                                    epsilon=0.1,\n",
    "                                    alpha_e1=0.5,\n",
    "                                    alpha_e2=0.5,\n",
    "                                    alpha_i=np.sqrt(2 / 1836),\n",
    "                                    u_e1=-1.05,\n",
    "                                    u_e2=1.05,\n",
    "                                    u_i=0,\n",
    "                                    L=2 * np.pi,\n",
    "                                    dt=1e-2,\n",
    "                                    T0=0,\n",
    "                                    T=40,\n",
    "                                    nu_e1=15,\n",
    "                                    nu_e2=15,\n",
    "                                    n0_e1=0.5,\n",
    "                                    n0_e2=0.5,\n",
    "                                    construct_B=False)"
   ]
  },
  {
   "cell_type": "code",
   "execution_count": 5,
   "id": "bd282bb4-b320-4241-83be-f8f3268686c1",
   "metadata": {},
   "outputs": [],
   "source": [
    "# ions (unperturbed + static)\n",
    "C0_ions = np.ones(setup.Nx) / setup.alpha_i"
   ]
  },
  {
   "cell_type": "code",
   "execution_count": 6,
   "id": "59082ae6-270b-4793-9cfb-4cd2dcbe5dbc",
   "metadata": {},
   "outputs": [],
   "source": [
    "# velocity grid for plotting purposes\n",
    "v = np.linspace(-2.5, 2.5, int(1e3))\n",
    "# spatial grid \n",
    "x = np.linspace(0, setup.L, setup.Nx + 1, endpoint=True)"
   ]
  },
  {
   "cell_type": "markdown",
   "id": "c03e1063-ed37-4d8c-80bf-cd9ac04adab5",
   "metadata": {},
   "source": [
    "## simulation dataset"
   ]
  },
  {
   "cell_type": "code",
   "execution_count": 7,
   "id": "afacab63-4f29-416a-b76b-37ba9e67f211",
   "metadata": {},
   "outputs": [
    {
     "name": "stdout",
     "output_type": "stream",
     "text": [
      "(175700, 401)\n",
      "(401,)\n"
     ]
    }
   ],
   "source": [
    "skip = 10\n",
    "\n",
    "# load the simulation results\n",
    "sol_midpoint_u = np.load(\"../data/FOM/two_stream/sample_\" + str(setup.u_e2) + \"/sol_FOM_u_\" + str(setup.Nv) + \"_nu_\" + str(setup.nu_e1) + \"_\" + str(setup.T0) + \"_\" + str(setup.T) + \".npy\")[:, ::skip]\n",
    "sol_midpoint_t = np.load(\"../data/FOM/two_stream/sample_\" + str(setup.u_e2) + \"/sol_FOM_t_\" + str(setup.Nv) + \"_nu_\" + str(setup.nu_e1) + \"_\" + str(setup.T0) + \"_\" + str(setup.T) + \".npy\")[::skip]\n",
    "\n",
    "setup.dt = setup.dt * skip\n",
    "\n",
    "# print simulation dimensions\n",
    "print(np.shape(sol_midpoint_u))\n",
    "print(np.shape(sol_midpoint_t))"
   ]
  },
  {
   "cell_type": "code",
   "execution_count": 8,
   "id": "991f09e6-12b2-4cb3-a70b-546086c1232d",
   "metadata": {},
   "outputs": [
    {
     "data": {
      "text/plain": [
       "array([17147.29633   ,  2200.43377399])"
      ]
     },
     "execution_count": 8,
     "metadata": {},
     "output_type": "execute_result"
    }
   ],
   "source": [
    "runtime =  np.load(\"../data/FOM/two_stream/sample_\" + str(setup.u_e2) + \"/sol_FOM_u_\" + str(setup.Nv) + \"_nu_\" + str(setup.nu_e1) + \"_runtime_\" + str(setup.T0) + \"_\" + str(setup.T) + \".npy\")\n",
    "runtime"
   ]
  },
  {
   "cell_type": "code",
   "execution_count": 9,
   "id": "1c68e6a5-0988-4a0f-91e2-3056f69a16ef",
   "metadata": {},
   "outputs": [],
   "source": [
    "# initialize the electric potential\n",
    "E_midpoint = np.zeros((setup.Nx + 1, len(sol_midpoint_t)))"
   ]
  },
  {
   "cell_type": "code",
   "execution_count": 10,
   "id": "39212b75-da7c-423c-ac88-ff5cecca9d58",
   "metadata": {},
   "outputs": [],
   "source": [
    "# initialize the states for implicit midpoint (symplectic)\n",
    "state_e1_midpoint = np.zeros((setup.Nv, setup.Nx + 1, len(sol_midpoint_t)))\n",
    "state_e2_midpoint = np.zeros((setup.Nv, setup.Nx + 1, len(sol_midpoint_t)))\n",
    "state_i_midpoint = np.zeros((setup.Nv,  setup.Nx + 1, len(sol_midpoint_t)))"
   ]
  },
  {
   "cell_type": "code",
   "execution_count": null,
   "id": "04d34a20-8619-4d03-a7df-d0ba6acd7af9",
   "metadata": {
    "scrolled": true
   },
   "outputs": [
    {
     "name": "stdout",
     "output_type": "stream",
     "text": [
      "time =  0.0\n",
      "time =  0.1\n",
      "time =  0.2\n",
      "time =  0.3\n",
      "time =  0.4\n",
      "time =  0.5\n"
     ]
    }
   ],
   "source": [
    "for ii in np.arange(0, len(sol_midpoint_t), 1):\n",
    "    print(\"time = \", sol_midpoint_t[ii])\n",
    "    for n in range(setup.Nv):\n",
    "        # unwind the flattening to solve the Vlasov-Poisson system\n",
    "        # electrons\n",
    "        state_e1_midpoint[n, :-1, ii]  = sol_midpoint_u[n*setup.Nx: (n+1)*setup.Nx, ii]\n",
    "        state_e1_midpoint[n, -1, ii] = state_e1_midpoint[n, 0, ii]\n",
    "\n",
    "        state_e2_midpoint[n, :-1, ii]  = sol_midpoint_u[setup.Nv*setup.Nx + n*setup.Nx: setup.Nv*setup.Nx + (n+1)*setup.Nx, ii]\n",
    "        state_e2_midpoint[n, -1, ii] = state_e2_midpoint[n, 0, ii]\n",
    "\n",
    "    # immobile ions\n",
    "    state_i_midpoint[0, :-1, ii] = C0_ions\n",
    "    state_i_midpoint[0, -1, ii] = state_i_midpoint[0, 0, ii]\n",
    "\n",
    "    # solve Poisson's equation to obtain an electric field\n",
    "    rho = charge_density_two_stream(alpha_e1=setup.alpha_e1,alpha_e2=setup.alpha_e2, alpha_i=setup.alpha_i,\n",
    "                                        q_e1=setup.q_e1, q_e2=setup.q_e2, q_i=setup.q_i,\n",
    "                                        C0_e1=state_e1_midpoint[0, :setup.Nx, ii],\n",
    "                                        C0_e2=state_e2_midpoint[0, :setup.Nx, ii],\n",
    "                                        C0_i=C0_ions)\n",
    "    \n",
    "    \n",
    "    E_midpoint[:-1, ii] = gmres_solver(rhs=rho, D=setup.D, D_inv=setup.D_inv, atol=1e-12, rtol=1e-12)\n",
    "    E_midpoint[-1, ii] = E_midpoint[0, ii]"
   ]
  },
  {
   "cell_type": "code",
   "execution_count": null,
   "id": "ad265c47-45dd-40f4-9d0a-76dd122ba497",
   "metadata": {},
   "outputs": [],
   "source": [
    "# plot the electric field\n",
    "fig, ax = plt.subplots(figsize=(5, 3))\n",
    "pos = ax.contourf(x, sol_midpoint_t, E_midpoint.T, cmap=\"RdBu\", levels=30)\n",
    "cbar = fig.colorbar(pos)\n",
    "cbar.ax.set_ylabel(\"$E(x, t)$\", rotation=90)\n",
    "ax.set_title(\"$E(x, t)$\")\n",
    "ax.set_xlabel(\"$x$\")\n",
    "_ = ax.set_xticks([0, np.pi, 2*np.pi])\n",
    "_ = ax.set_xticklabels([r\"0\", r\"$\\pi$\", r\"$2\\pi$\"])\n",
    "_ = ax.set_ylabel(\"$t$\")\n",
    "plt.tight_layout()\n",
    "\n",
    "#plt.savefig(\"../figs/FOM/two_stream/electric_field_FOM_\" + str(setup.u_e2)+ \".png\", dpi=600)"
   ]
  },
  {
   "cell_type": "code",
   "execution_count": null,
   "id": "3eef6014-5f24-45f5-a002-1d1be252510f",
   "metadata": {
    "scrolled": true
   },
   "outputs": [],
   "source": [
    "_ = plt.plot(state_e2_midpoint[10, :, :25])"
   ]
  },
  {
   "cell_type": "code",
   "execution_count": null,
   "id": "8011cf86-282a-4d4b-a543-ba6b9d69a6aa",
   "metadata": {},
   "outputs": [],
   "source": [
    "_ = plt.plot(state_e2_midpoint[240, :, ::20])"
   ]
  },
  {
   "cell_type": "code",
   "execution_count": null,
   "id": "effd2e49-7a44-493d-a137-1da70df87129",
   "metadata": {},
   "outputs": [],
   "source": [
    "np.save(\"../data/FOM/two_stream/sample_\" + str(setup.u_e2) + \"/state_e1_midpoint.npy\", state_e1_midpoint[:, :, :])\n",
    "np.save(\"../data/FOM/two_stream/sample_\" + str(setup.u_e2) + \"/state_e2_midpoint.npy\", state_e2_midpoint[:, :, :])"
   ]
  },
  {
   "cell_type": "code",
   "execution_count": null,
   "id": "ba15d9ed-e1fc-4e23-b345-0fd1313000d5",
   "metadata": {},
   "outputs": [],
   "source": [
    "# compute the electric field k=1 mode amplitude using fft\n",
    "E1_midpoint = np.zeros(len(sol_midpoint_t))\n",
    "\n",
    "for ii in range(len(sol_midpoint_t)):\n",
    "    E1_midpoint[ii] = np.abs(scipy.fft.fft(E_midpoint[:, ii]))[1]"
   ]
  },
  {
   "cell_type": "code",
   "execution_count": null,
   "id": "61299b70-d73d-4c52-8838-0df13252113c",
   "metadata": {},
   "outputs": [],
   "source": [
    "# save the electric field\n",
    "np.save(\"../data/FOM/two_stream/sample_\" + str(setup.u_e2) + \"/sol_midpoint_E_\" + str(setup.Nv)+ \"_nu_\" + str(setup.nu_e1) + \".npy\", E_midpoint)\n",
    "np.save(\"../data/FOM/two_stream/sample_\" + str(setup.u_e2) + \"/sol_midpoint_E1_\" + str(setup.Nv)+ \"_nu_\" + str(setup.nu_e1) + \".npy\", E1_midpoint)"
   ]
  },
  {
   "cell_type": "code",
   "execution_count": null,
   "id": "5df58a2a-8321-4d74-bba3-1a72cc99ebdb",
   "metadata": {},
   "outputs": [],
   "source": [
    "E1_1 = np.load(\"../data/FOM/two_stream/sample_1/sol_midpoint_E1_\" + str(setup.Nv)+ \"_nu_\" + str(setup.nu_e1) + \".npy\")\n",
    "E1_105 = np.load(\"../data/FOM/two_stream/sample_1.05/sol_midpoint_E1_\" + str(setup.Nv)+ \"_nu_\" + str(setup.nu_e1) + \".npy\")\n",
    "E1_106 = np.load(\"../data/FOM/two_stream/sample_1.06/sol_midpoint_E1_\" + str(setup.Nv)+ \"_nu_\" + str(setup.nu_e1) + \".npy\")\n",
    "E1_107 = np.load(\"../data/FOM/two_stream/sample_1.07/sol_midpoint_E1_\" + str(setup.Nv)+ \"_nu_\" + str(setup.nu_e1) + \".npy\")\n",
    "E1_108 = np.load(\"../data/FOM/two_stream/sample_1.08/sol_midpoint_E1_\" + str(setup.Nv)+ \"_nu_\" + str(setup.nu_e1) + \".npy\")\n",
    "E1_109 = np.load(\"../data/FOM/two_stream/sample_1.09/sol_midpoint_E1_\" + str(setup.Nv)+ \"_nu_\" + str(setup.nu_e1) + \".npy\")\n",
    "E1_11 = np.load(\"../data/FOM/two_stream/sample_1.1/sol_midpoint_E1_\" + str(setup.Nv)+ \"_nu_\" + str(setup.nu_e1) + \".npy\")"
   ]
  },
  {
   "cell_type": "code",
   "execution_count": null,
   "id": "7f553862-2e2a-4344-b261-9b2e598303f7",
   "metadata": {},
   "outputs": [],
   "source": [
    "# plot the electric field damping rate\n",
    "fig, ax = plt.subplots(figsize=(7, 3))\n",
    "ax.plot(sol_midpoint_t, E1_105, \"-\", c=\"purple\", linewidth=1, label=\"$u^{e_{2}}=1.05$\") \n",
    "ax.plot(sol_midpoint_t, E1_106, \"-\", c=\"blue\", linewidth=1, label=\"$u^{e_{2}}=1.06$\") \n",
    "ax.plot(sol_midpoint_t, E1_107, \"-\", c=\"green\", linewidth=1, label=\"$u^{e_{2}}=1.07$\") \n",
    "ax.plot(sol_midpoint_t, E1_108, \"-\", c=\"red\", linewidth=1, label=\"$u^{e_{2}}=1.08$\") \n",
    "ax.plot(sol_midpoint_t, E1_109, \"-\", c=\"orange\", linewidth=1, label=\"$u^{e_{2}}=1.09$\") \n",
    "ax.set_yscale(\"log\")\n",
    "ax.spines['right'].set_visible(False)\n",
    "ax.spines['top'].set_visible(False)\n",
    "ax.set_ylabel(\"$|\\hat{E}(1)|$\")\n",
    "ax.set_xlabel(\"$ t$\")\n",
    "ax.set_xlim(0, setup.T)\n",
    "ax.set_ylim(2e-1, 30)\n",
    "legend = ax.legend(ncols=2, fancybox=False, shadow=False, fontsize=12, loc='lower right')\n",
    "legend.get_frame().set_alpha(0)\n",
    "plt.tight_layout()\n",
    "plt.savefig(\"../figs/FOM/two_stream/electric_field_parameteric\" + str(setup.Nv) + \".png\", dpi=600)"
   ]
  },
  {
   "cell_type": "code",
   "execution_count": null,
   "id": "d8f55792-9e19-4709-a3f9-a37b00355378",
   "metadata": {},
   "outputs": [],
   "source": [
    "# fig, ax = plt.subplots(figsize=(6, 4), dpi = 500)\n",
    "\n",
    "# def animate(ii):\n",
    "#     ii = int(10*ii)\n",
    "#     distribution1 = np.zeros((len(x), len(v)))\n",
    "#     distribution2 = np.zeros((len(x), len(v)))\n",
    "#     for jj in range(setup.Nv):\n",
    "#         distribution1 += np.outer(state_e1_midpoint[jj, :, ii], psi_ln_aw(xi=(v - setup.u_e1)/setup.alpha_e1, v=v, alpha_s=setup.alpha_e1, u_s=setup.u_e1, n=jj))\n",
    "#         distribution2 += np.outer(state_e2_midpoint[jj, :, ii], psi_ln_aw(xi=(v - setup.u_e2)/setup.alpha_e2, v=v, alpha_s=setup.alpha_e2, u_s=setup.u_e2, n=jj))\n",
    "#     pos = ax.pcolormesh(x, v, (distribution1 + distribution2).T, cmap=\"hot\", vmin=0, vmax=0.4)\n",
    "#     ax.set_yticks([-4, 0, 4, 8])\n",
    "#     ax.set_ylabel(\"v\")\n",
    "#     #cbar = fig.colorbar(pos)\n",
    "#     #cbar.ax.set_ylabel('$f^{e}(x, v, t=$' + str(int(sol_midpoint_t[ii])) + \")\", rotation=90)\n",
    "#     #cbar.ax.set_yticks([0, 0.1, 0.2, 0.3, 0.4])\n",
    "#     ax.set_title(\"$f^{e}(x, v, t=$\" + str(int(sol_midpoint_t[ii])) + \")\")\n",
    "#     ax.set_xlabel(\"x\")\n",
    "#     ax.set_xticks([0, 10*np.pi/3, 20*np.pi/3])\n",
    "#     ax.set_xticklabels([r\"0\", r\"$10\\pi/3$\", r\"$20\\pi/3$\"])\n",
    "#     plt.tight_layout()\n",
    "# ani = animation.FuncAnimation(fig, animate, frames=len(sol_midpoint_t[::10]))\n",
    "# ani.save(\"../figs/FOM/bump_on_tail/bump_on_tail_FOM_ue2_\" + str(setup.u_e2) + \"_vid.gif\", writer='pillow', dpi = \"figure\")\n",
    "# plt.close()"
   ]
  },
  {
   "cell_type": "code",
   "execution_count": null,
   "id": "e190b2bf-ec20-40c6-9bcd-07908c3c6d43",
   "metadata": {},
   "outputs": [],
   "source": [
    "#ani"
   ]
  },
  {
   "cell_type": "code",
   "execution_count": null,
   "id": "a4e6d877-1acc-4be1-9167-66c45597e41b",
   "metadata": {},
   "outputs": [],
   "source": [
    "# plot the phase space evolution as a function of time\n",
    "fig, ax = plt.subplots(nrows=3, figsize=(5, 10), sharex=True)\n",
    "for tt, ii in enumerate([int(len(sol_midpoint_t)//2), int(3*len(sol_midpoint_t)//4), -1]):\n",
    "    ii = int(ii)\n",
    "    distribution1 = np.zeros((len(x), len(v)))\n",
    "    distribution2 = np.zeros((len(x), len(v)))\n",
    "    for jj in range(setup.Nv):\n",
    "        distribution1 += np.outer(state_e1_midpoint[jj, :, ii], psi_ln_aw(v=v, u_s=setup.u_e1, alpha_s=setup.alpha_e1, n=jj))\n",
    "        distribution2 += np.outer(state_e2_midpoint[jj, :, ii], psi_ln_aw(v=v, u_s=setup.u_e2, alpha_s=setup.alpha_e2, n=jj))\n",
    "    pos = ax[tt].pcolormesh(x, v, (distribution1 + distribution2).T, cmap=\"inferno\", vmin=0, vmax=0.6, shading=\"gouraud\")\n",
    "    ax[tt].set_yticks([-2, 0, 2])\n",
    "    ax[tt].set_ylim(-2.5, 2.5)\n",
    "    ax[tt].set_ylabel(\"$v$\")\n",
    "    cbar = fig.colorbar(pos)\n",
    "    cbar.ax.set_ylabel('$f(x, v, t=$' + str(int(sol_midpoint_t[ii])) + \")\", rotation=90)\n",
    "    cbar.ax.set_yticks([0,  0.2, 0.4, 0.6])\n",
    "    ax[tt].set_title(\"$f(x, v, t=$\" + str(int(sol_midpoint_t[ii])) + \")\")\n",
    "\n",
    "ax[tt].set_xlabel(\"$x$\")\n",
    "ax[tt].set_xticks([0, np.pi, 2*np.pi])\n",
    "ax[tt].set_xticklabels([r\"0\", r\"$\\pi$\", r\"$2\\pi$\"])\n",
    "plt.tight_layout()\n",
    "plt.savefig(\"../figs/FOM/two_stream/two_stream_evolution_\" + str(setup.u_e2) +\".png\", dpi=200)"
   ]
  },
  {
   "cell_type": "code",
   "execution_count": null,
   "id": "f03d79a3-6d00-4870-b4d9-609c05a6eff0",
   "metadata": {},
   "outputs": [],
   "source": [
    "# np.save(\"../data/FOM/two_stream/sample_\" + str(setup.u_e2) + \"/distribution_final.npy\", distribution1 + distribution2)"
   ]
  },
  {
   "cell_type": "code",
   "execution_count": null,
   "id": "8520cf3d-7867-4911-ab33-708f61ec41f7",
   "metadata": {},
   "outputs": [],
   "source": [
    "# plot the phase space evolution as a function of time\n",
    "fig, ax = plt.subplots(nrows=3, figsize=(5, 15), sharex=True)\n",
    "for tt, ii in enumerate([len(sol_midpoint_t)//3, int(3*len(sol_midpoint_t)//4), -1]):\n",
    "    pos = ax[tt].pcolormesh(np.arange(setup.Nx + 1), np.arange(setup.Nv), state_e1_midpoint[:, :, ii], cmap=\"hot_r\")\n",
    "    ax[tt].set_ylabel(\"$N_{v}$\")\n",
    "    cbar = fig.colorbar(pos)\n",
    "    cbar.ax.set_ylabel('$\\mathbf{C}^{e1}(t=$' + str(int(sol_midpoint_t[ii])) + \")\", rotation=90)\n",
    "    ax[tt].set_title(\"$\\mathbf{C}^{e1}(t=$\" + str(int(sol_midpoint_t[ii])) + \")\")\n",
    "ax[tt].set_xlabel(\"$N_{v}$\")\n",
    "plt.tight_layout()\n",
    "#plt.savefig(\"../figs/FOM/two_stream/two_stream_evolution_\" + str(setup.u_e2) +\"_mag_e1.png\", dpi=600)"
   ]
  },
  {
   "cell_type": "code",
   "execution_count": null,
   "id": "b567e019-809e-4e45-b3c8-965b3e428869",
   "metadata": {},
   "outputs": [],
   "source": [
    "# plot the phase space evolution as a function of time\n",
    "fig, ax = plt.subplots(nrows=3, figsize=(5, 15), sharex=True)\n",
    "for tt, ii in enumerate([len(sol_midpoint_t)//3, int(3*len(sol_midpoint_t)//4), -1]):\n",
    "    pos = ax[tt].pcolormesh(np.arange(setup.Nx + 1), np.arange(setup.Nv), state_e2_midpoint[:, :, ii], cmap=\"RdBu\")\n",
    "    ax[tt].set_ylabel(\"$N_{v}$\")\n",
    "    cbar = fig.colorbar(pos)\n",
    "    cbar.ax.set_ylabel('$\\mathbf{C}^{e2}(t=$' + str(int(sol_midpoint_t[ii])) + \")\", rotation=90)\n",
    "    ax[tt].set_title(\"$\\mathbf{C}^{e2}(t=$\" + str(int(sol_midpoint_t[ii])) + \")\")\n",
    "ax[tt].set_xlabel(\"$N_{x}$\")\n",
    "plt.tight_layout()\n",
    "# plt.savefig(\"../figs/FOM/bump_on_tail/bump_on_tail_evolution_\" + str(setup.u_e2) +\"_mag_e2.png\", dpi=600)"
   ]
  },
  {
   "cell_type": "markdown",
   "id": "5fe9881a-b904-4be4-be2b-b0ced7742bfc",
   "metadata": {},
   "source": [
    "### mass conservation"
   ]
  },
  {
   "cell_type": "code",
   "execution_count": null,
   "id": "c6aa3563-fd66-4c69-8f2b-c560a519f02f",
   "metadata": {},
   "outputs": [],
   "source": [
    "# compute mass at each timestamp\n",
    "mass_midpoint = np.zeros(len(sol_midpoint_t))\n",
    "\n",
    "for ii in range(0, len(sol_midpoint_t)):\n",
    "    mass_midpoint[ii] = total_mass(state=state_e1_midpoint[:, :-1, ii], alpha_s=setup.alpha_e1, dx=setup.dx)\\\n",
    "                        +total_mass(state=state_e2_midpoint[:, :-1, ii], alpha_s=setup.alpha_e2, dx=setup.dx)\\\n",
    "                        +total_mass(state=state_i_midpoint[:, :-1, ii], alpha_s=setup.alpha_i, dx=setup.dx)"
   ]
  },
  {
   "cell_type": "code",
   "execution_count": null,
   "id": "13e53c62-29f9-4f8c-9dd6-1447589bf2d7",
   "metadata": {},
   "outputs": [],
   "source": [
    "# plot mass conservation\n",
    "fig, ax = plt.subplots(figsize=(6, 4))\n",
    "ax.plot(sol_midpoint_t, np.abs(mass_midpoint - mass_midpoint[0]), \"-\")\n",
    "#ax.set_yscale(\"log\")\n",
    "ax.spines['right'].set_visible(False)\n",
    "ax.spines['top'].set_visible(False)\n",
    "ax.set_ylabel(r\"$|\\mathcal{N}^{tot}(t) - \\mathcal{N}^{tot}(t=0)|$\", fontsize=15)\n",
    "ax.set_xlabel(\"$t$\")\n",
    "ax.set_xlim(0, setup.T)\n",
    "plt.tight_layout()"
   ]
  },
  {
   "cell_type": "markdown",
   "id": "677ab24e-c128-4ccf-bef8-a86c3a058c6b",
   "metadata": {},
   "source": [
    "### momentum conservation"
   ]
  },
  {
   "cell_type": "code",
   "execution_count": null,
   "id": "e74bf70e-b6fa-4056-aa12-f3416c69bd08",
   "metadata": {},
   "outputs": [],
   "source": [
    "# compute momentum at each timestamp\n",
    "momentum_midpoint = np.zeros(len(sol_midpoint_t))\n",
    "\n",
    "for ii in range(0, len(sol_midpoint_t)):\n",
    "    momentum_midpoint[ii] = total_momentum(state=state_e1_midpoint[:, :-1, ii], alpha_s=setup.alpha_e1, dx=setup.dx,\n",
    "                                           m_s=setup.m_e1, u_s=setup.u_e1)\\\n",
    "                            +total_momentum(state=state_e2_midpoint[:, :-1, ii], alpha_s=setup.alpha_e2, dx=setup.dx,\n",
    "                                           m_s=setup.m_e2, u_s=setup.u_e2)\\\n",
    "                            +total_momentum(state=state_i_midpoint[:, :-1, ii], alpha_s=setup.alpha_i, dx=setup.dx,\n",
    "                                           m_s=setup.m_i, u_s=setup.u_i)"
   ]
  },
  {
   "cell_type": "code",
   "execution_count": null,
   "id": "21c29070-d6a7-4874-871f-418e165f0106",
   "metadata": {},
   "outputs": [],
   "source": [
    "# plot momentum conservation\n",
    "fig, ax = plt.subplots(figsize=(6, 4))\n",
    "ax.plot(sol_midpoint_t, np.abs(momentum_midpoint - momentum_midpoint[0]), \"-\")\n",
    "ax.set_yscale(\"log\")\n",
    "ax.spines['right'].set_visible(False)\n",
    "ax.spines['top'].set_visible(False)\n",
    "ax.set_ylabel(r\"$|P_{mech}(t)-P_{mech}(t=0)|$\", fontsize=15)\n",
    "ax.set_xlabel(\"$t$\")\n",
    "ax.set_xlim(0, setup.T)\n",
    "plt.tight_layout()"
   ]
  },
  {
   "cell_type": "markdown",
   "id": "fd5a0258-6058-4882-a8cb-bd94cc6c9a56",
   "metadata": {},
   "source": [
    "### energy conservation"
   ]
  },
  {
   "cell_type": "code",
   "execution_count": null,
   "id": "9e997560-27cc-4056-802a-1422653d5d57",
   "metadata": {},
   "outputs": [],
   "source": [
    "# compute energy (kinetic + potential) at each timestamp\n",
    "energy_k_midpoint = np.zeros(len(sol_midpoint_t))\n",
    "energy_p_midpoint = np.zeros(len(sol_midpoint_t))\n",
    "\n",
    "for ii in range(0, len(sol_midpoint_t)):\n",
    "    energy_k_midpoint[ii] = total_energy_k(state=state_e1_midpoint[:, :-1, ii], alpha_s=setup.alpha_e1, dx=setup.dx, m_s=setup.m_e1, u_s=setup.u_e1)\\\n",
    "                            +total_energy_k(state=state_e2_midpoint[:, :-1, ii], alpha_s=setup.alpha_e2, dx=setup.dx, m_s=setup.m_e2, u_s=setup.u_e2)\\\n",
    "                            +total_energy_k(state=state_i_midpoint[:, :-1, ii], alpha_s=setup.alpha_i, dx=setup.dx, m_s=setup.m_i, u_s=setup.u_i)\n",
    "    \n",
    "    energy_p_midpoint[ii] = 0.5*setup.dx*np.sum((E_midpoint[:-1, ii])**2)"
   ]
  },
  {
   "cell_type": "code",
   "execution_count": null,
   "id": "200e07f7-c332-4699-ac8e-6c6a45c70d09",
   "metadata": {},
   "outputs": [],
   "source": [
    "# plot energy conservation\n",
    "fig, ax = plt.subplots(figsize=(6, 4))\n",
    "ax.plot(sol_midpoint_t, np.abs(energy_p_midpoint + energy_k_midpoint -energy_p_midpoint[0]-energy_k_midpoint[0]), \"-\")\n",
    "ax.spines['right'].set_visible(False)\n",
    "ax.spines['top'].set_visible(False)\n",
    "ax.set_ylabel(r\"$|\\mathcal{\\epsilon}_{total}(t)-\\mathcal{\\epsilon}_{total}(t=0)|$\", fontsize=15)\n",
    "ax.set_xlabel(\"$ t$\")\n",
    "ax.set_xlim(0, setup.T)\n",
    "ax.set_yscale(\"log\")\n",
    "plt.tight_layout()"
   ]
  },
  {
   "cell_type": "code",
   "execution_count": null,
   "id": "0e3476a5-403c-4eb4-9db2-53a50a261fb4",
   "metadata": {},
   "outputs": [],
   "source": [
    "# plot the (kinetic + potential) energy exchange\n",
    "fig, ax = plt.subplots(figsize=(7, 3))\n",
    "plt.plot(sol_midpoint_t, energy_k_midpoint- energy_k_midpoint[0], label=\"kinetic energy\", ls=\"--\", linewidth=2, color=\"blue\")\n",
    "plt.plot(sol_midpoint_t, energy_p_midpoint- energy_p_midpoint[0], label=\"potential energy\", linewidth=2, color=\"red\")\n",
    "legend = ax.legend(ncols=2, fontsize=14, loc='upper center', bbox_to_anchor=(0.5, 1.15))\n",
    "legend.get_frame().set_alpha(0)\n",
    "ax.spines['right'].set_visible(False)\n",
    "ax.spines['top'].set_visible(False)\n",
    "ax.set_xlabel(\"t\")\n",
    "ax.set_ylabel(r\"$\\Delta E$\")"
   ]
  },
  {
   "cell_type": "code",
   "execution_count": null,
   "id": "7b36cb05-8940-4ca4-9dd0-7c83aec8414d",
   "metadata": {},
   "outputs": [],
   "source": [
    "# plot the analytic and numerical conservation properties\n",
    "fig, ax = plt.subplots(figsize=(7, 3))\n",
    "ax.scatter(sol_midpoint_t, np.abs(mass_midpoint-mass_midpoint[0]), s=30, color=\"black\", label=r\"particle number $\\mathcal{N}(t)$\")\n",
    "ax.plot(sol_midpoint_t, np.abs(momentum_midpoint-momentum_midpoint[0]), \"x\", color=\"blue\", label=r\"momentum $\\mathcal{P}(t)$\")\n",
    "ax.plot(sol_midpoint_t, np.abs(energy_p_midpoint + energy_k_midpoint -energy_p_midpoint[0]-energy_k_midpoint[0]), \">\", color=\"purple\", label=r\"energy $\\mathcal{E}(t)$\")\n",
    "ax.set_yscale(\"log\")\n",
    "ax.spines['right'].set_visible(False)\n",
    "ax.spines['top'].set_visible(False)\n",
    "ax.set_ylabel(r\"Absolute Error\")\n",
    "ax.set_xlabel(\"$t$\")\n",
    "ax.set_xlim(0, setup.T)\n",
    "ax.set_yscale(\"log\")\n",
    "legend = ax.legend(ncols=2, fontsize=14, loc='upper center', bbox_to_anchor=(0.5, 1.4))\n",
    "text = ax.text(-0.2,1.05, \" \", transform=ax.transAxes)\n",
    "legend.get_frame().set_alpha(0)\n",
    "plt.ylim(1e-15, 1e-8)\n",
    "#plt.savefig(\"../figs/FOM/two_stream/conservation_\" + str(setup.Nv) + \"_two_stream_FOM.png\", bbox_extra_artists=(legend,text), bbox_inches='tight', dpi=600)"
   ]
  },
  {
   "cell_type": "code",
   "execution_count": null,
   "id": "f1c71250-a8d7-4ca3-baf9-ca4839298a6e",
   "metadata": {},
   "outputs": [],
   "source": []
  },
  {
   "cell_type": "code",
   "execution_count": null,
   "id": "0d8127fd-5282-48b3-8303-fb0e3d82b27d",
   "metadata": {},
   "outputs": [],
   "source": []
  }
 ],
 "metadata": {
  "kernelspec": {
   "display_name": "Python 3 (ipykernel)",
   "language": "python",
   "name": "python3"
  },
  "language_info": {
   "codemirror_mode": {
    "name": "ipython",
    "version": 3
   },
   "file_extension": ".py",
   "mimetype": "text/x-python",
   "name": "python",
   "nbconvert_exporter": "python",
   "pygments_lexer": "ipython3",
   "version": "3.9.19"
  }
 },
 "nbformat": 4,
 "nbformat_minor": 5
}
