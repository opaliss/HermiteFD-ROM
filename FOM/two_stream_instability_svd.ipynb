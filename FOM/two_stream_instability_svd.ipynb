{
 "cells": [
  {
   "cell_type": "code",
   "execution_count": 1,
   "id": "b835cb13-a82a-4a69-a99b-5d557dda47d9",
   "metadata": {},
   "outputs": [],
   "source": [
    "import sys, os\n",
    "sys.path.append(os.path.abspath(os.path.join('..')))"
   ]
  },
  {
   "cell_type": "code",
   "execution_count": 2,
   "id": "5b049700-88ef-4ba7-93ee-2c68fdfb93cc",
   "metadata": {},
   "outputs": [],
   "source": [
    "import numpy as np \n",
    "from operators.setup_FOM_two_stream import SimulationSetupTwoStreamFOM\n",
    "from operators.FOM import total_mass, total_momentum, total_energy_k, psi_ln_aw\n",
    "import scipy"
   ]
  },
  {
   "cell_type": "code",
   "execution_count": 3,
   "id": "7b911930-8fcf-4502-bdf6-0d7163bb4452",
   "metadata": {},
   "outputs": [],
   "source": [
    "%matplotlib inline\n",
    "import matplotlib.pyplot as plt\n",
    "from mycolorpy import colorlist as mcp\n",
    "import matplotlib\n",
    "font = {'family' : 'serif',\n",
    "        'size'   : 14}\n",
    "\n",
    "matplotlib.rc('font', **font)\n",
    "matplotlib.rc('xtick', labelsize=14) \n",
    "matplotlib.rc('ytick', labelsize=14) "
   ]
  },
  {
   "cell_type": "markdown",
   "id": "17ba8cb2-c64b-489a-8cc1-e4214e1b155c",
   "metadata": {},
   "source": [
    "## Two stream instability singular value decomposition"
   ]
  },
  {
   "cell_type": "code",
   "execution_count": 4,
   "id": "f14f572c-2124-4ec0-96aa-4c0ccbdac3f1",
   "metadata": {},
   "outputs": [],
   "source": [
    "setup = SimulationSetupTwoStreamFOM(Nx=251,\n",
    "                                    Nv=350,\n",
    "                                    epsilon=0.1,\n",
    "                                    alpha_e1=0.5,\n",
    "                                    alpha_e2=0.5,\n",
    "                                    alpha_i=np.sqrt(2 / 1836),\n",
    "                                    u_e1=-1.05,\n",
    "                                    u_e2=1.05,\n",
    "                                    u_i=0,\n",
    "                                    L=2 * np.pi,\n",
    "                                    dt=1e-2,\n",
    "                                    T0=0,\n",
    "                                    T=40,\n",
    "                                    nu_e1=15,\n",
    "                                    nu_e2=15,\n",
    "                                    n0_e1=0.5,\n",
    "                                    n0_e2=0.5,\n",
    "                                    construct_B=False)"
   ]
  },
  {
   "cell_type": "code",
   "execution_count": 5,
   "id": "1f16af6f-59aa-4a51-923e-967c93608bb0",
   "metadata": {},
   "outputs": [],
   "source": [
    "# velocity grid for plotting purposes\n",
    "v = np.linspace(-4, 4, int(10**4))\n",
    "# spatial grid \n",
    "x = np.linspace(0, setup.L, setup.Nx+1)"
   ]
  },
  {
   "cell_type": "code",
   "execution_count": 11,
   "id": "db2fa1dc-21b5-4bc7-913f-5c91c29e5e64",
   "metadata": {},
   "outputs": [],
   "source": [
    "# number of moments to solve for M\n",
    "M = 3"
   ]
  },
  {
   "cell_type": "code",
   "execution_count": 7,
   "id": "0ed3de49-af6b-4b4c-bd81-424c2f0e376c",
   "metadata": {},
   "outputs": [],
   "source": [
    "u_train = [1.05, 1.06, 1.07, 1.08]"
   ]
  },
  {
   "cell_type": "code",
   "execution_count": 8,
   "id": "b6ac8832-5a4a-485f-a70c-a77c053fec0e",
   "metadata": {},
   "outputs": [
    {
     "name": "stdout",
     "output_type": "stream",
     "text": [
      "1\n",
      "2\n",
      "3\n"
     ]
    }
   ],
   "source": [
    "sol_midpoint_u = np.load(\"../data/FOM/two_stream/sample_\" + str(u_train[0]) + \"/sol_FOM_u_\" + str(setup.Nv) + \"_nu_\" + str(setup.nu_e1) + \"_\" + str(setup.T0) + \"_\" + str(setup.T) + \".npy\")\n",
    "\n",
    "for kk in range(1, len(u_train)):\n",
    "    print(kk)\n",
    "    # update the standard deviation parameter \n",
    "    new_data =  np.load(\"../data/FOM/two_stream/sample_\" + str(u_train[kk]) + \"/sol_FOM_u_\" + str(setup.Nv) + \"_nu_\" + str(setup.nu_e1) + \"_\" + str(setup.T0) + \"_\" + str(setup.T) + \".npy\")\n",
    "    sol_midpoint_u = np.append(sol_midpoint_u, new_data, axis=1)"
   ]
  },
  {
   "cell_type": "code",
   "execution_count": 12,
   "id": "7890a6e8-9eb9-46bb-8bef-4b424eb6b7f5",
   "metadata": {},
   "outputs": [],
   "source": [
    "sol_midpoint_e1 = sol_midpoint_u[M*setup.Nx:setup.Nx*setup.Nv, :]\n",
    "sol_midpoint_e2 = sol_midpoint_u[setup.Nv*setup.Nx+M*setup.Nx:, :]"
   ]
  },
  {
   "cell_type": "code",
   "execution_count": 14,
   "id": "bb764c8c-d780-4d31-9f03-5f20cab4ea11",
   "metadata": {},
   "outputs": [
    {
     "name": "stdout",
     "output_type": "stream",
     "text": [
      "(87097, 16004)\n",
      "(87097, 16004)\n"
     ]
    }
   ],
   "source": [
    "print(np.shape(sol_midpoint_e1))\n",
    "print(np.shape(sol_midpoint_e2))"
   ]
  },
  {
   "cell_type": "code",
   "execution_count": null,
   "id": "6ebdf178-7e76-4ef3-8290-9a0530dd93f8",
   "metadata": {},
   "outputs": [],
   "source": [
    "# compute the SVD\n",
    "# electrons species (1)\n",
    "U_e1, S_e1, _ = np.linalg.svd(sol_midpoint_e1, full_matrices=False)\n",
    "print(\"e1 SVD computed!\")"
   ]
  },
  {
   "cell_type": "code",
   "execution_count": null,
   "id": "933fde04-d9fb-480c-9a56-919c7064dfad",
   "metadata": {},
   "outputs": [],
   "source": [
    "# electrons species (2)\n",
    "U_e2, S_e2, _ = np.linalg.svd(sol_midpoint_e2, full_matrices=False)\n",
    "print(\"e2 SVD computed!\")"
   ]
  },
  {
   "cell_type": "code",
   "execution_count": null,
   "id": "cd2bcb47-42c6-4b1d-b7e3-a847a26b70dd",
   "metadata": {},
   "outputs": [],
   "source": [
    "# basis save first 1000 modes (we dont really use more than that)\n",
    "np.save(\"../data/ROM/two_stream/basis_SVD_e1_\" + str(setup.T0) + \"_\" + str(setup.T) + \"_M_\" + str(M) + \".npy\", U_e1[:, :300])\n",
    "np.save(\"../data/ROM/two_stream/basis_SVD_e2_\" + str(setup.T0) + \"_\" + str(setup.T) + \"_M_\" + str(M) + \".npy\", U_e2[:, :300])"
   ]
  },
  {
   "cell_type": "code",
   "execution_count": null,
   "id": "94d83da6-7b21-414b-af60-1d87ca54572f",
   "metadata": {},
   "outputs": [],
   "source": [
    "# singular values\n",
    "np.save(\"../data/ROM/two_stream/singular_values_SVD_e1_\" + str(setup.T0) + \"_\" + str(setup.T) + \"_M_\" + str(M) + \".npy\", S_e1)\n",
    "np.save(\"../data/ROM/two_stream/singular_values_SVD_e2_\" + str(setup.T0) + \"_\" + str(setup.T) + \"_M_\" + str(M) + \".npy\", S_e2)"
   ]
  },
  {
   "cell_type": "code",
   "execution_count": null,
   "id": "4c5e4705-deef-458b-9ea2-1d6a3d5ea846",
   "metadata": {},
   "outputs": [],
   "source": [
    "# plot the electric field damping rate\n",
    "fig, ax = plt.subplots(figsize=(6, 4))\n",
    "ax.plot(np.arange(len(S_e1)), (np.abs(S_e1)/np.max(S_e1[0])), color=\"tab:blue\",linewidth=2, label=r\"$e^{1}$\")\n",
    "ax.plot(np.arange(len(S_e2)), (np.abs(S_e2)/np.max(S_e2[0])), ls=\"--\", color=\"tab:red\", linewidth=2, label=r\"$e^{2}$\")\n",
    "ax.spines['right'].set_visible(False)\n",
    "ax.spines['top'].set_visible(False)\n",
    "ax.set_ylabel(\"$\\sigma_{i}/\\sigma_{1}$\")\n",
    "ax.set_xlabel(r\"reduced dimension $N_{r}$\")\n",
    "ax.set_yscale(\"log\")\n",
    "ax.set_ylim(10**-16, 1)\n",
    "ax.set_xlim(0, 1000)\n",
    "plt.grid()\n",
    "\n",
    "legend = ax.legend(ncols=3, fancybox=False, shadow=False, fontsize=12, loc='upper right', bbox_to_anchor=(0.9, 1.2))\n",
    "legend.get_frame().set_alpha(0)\n",
    "plt.tight_layout()\n",
    "plt.savefig(\"../figs/ROM/two_stream/singular_value_decay_linear_landau_M\" + str(M) + \".png\", dpi=300, bbox_inches='tight')"
   ]
  },
  {
   "cell_type": "code",
   "execution_count": null,
   "id": "3c2449de-0b8d-454a-9009-36fa7e486c2d",
   "metadata": {},
   "outputs": [],
   "source": [
    "U_e1_tensor = np.zeros((setup.Nv - M, setup.Nx, np.shape(U_e1)[-1]))\n",
    "U_e2_tensor = np.zeros((setup.Nv - M, setup.Nx, np.shape(U_e2)[-1]))\n",
    "\n",
    "for n in range(0, setup.Nv - M):\n",
    "    U_e1_tensor[n, :, :] = U_e1[n*setup.Nx: (n+1)*setup.Nx, :]\n",
    "    U_e2_tensor[n, :, :] = U_e2[n*setup.Nx: (n+1)*setup.Nx, :]"
   ]
  },
  {
   "cell_type": "code",
   "execution_count": null,
   "id": "d0257766-4f8a-46d3-a372-54057212467e",
   "metadata": {},
   "outputs": [],
   "source": [
    "# plot phase space evolution \n",
    "fig, ax = plt.subplots(nrows=6, sharex=True, figsize=(4, 12))\n",
    "for tt, ii in enumerate([0, 1, 2, 3, 4, 5]):\n",
    "    distribution1 = np.zeros((setup.Nx + 1, len(v)))\n",
    "    distribution2 = np.zeros((setup.Nx + 1, len(v)))\n",
    "    for jj in range(setup.Nv - M):\n",
    "        distribution1 += np.outer(np.append(U_e1_tensor[jj, :, ii], U_e1_tensor[jj, 0, ii]), psi_ln_aw(u_s=setup.u_e1, alpha_s=setup.alpha_e1, v=v, n=jj))\n",
    "        distribution2 += np.outer(np.append(U_e2_tensor[jj, :, ii], U_e2_tensor[jj, 0, ii]), psi_ln_aw(u_s=setup.u_e2, alpha_s=setup.alpha_e2, v=v, n=jj))\n",
    "    pos = ax[tt].contourf(x, v, (distribution1 + distribution2).T, cmap=\"RdBu\", vmax=np.max(distribution1), vmin=-np.max(distribution1), levels=30)\n",
    "    ax[tt].set_ylabel(\"$v$\")\n",
    "    ax[tt].set_yticks([-4, 0, 4])\n",
    "    ax[tt].set_title(\"mode \" + str(ii + 1), fontsize=14)\n",
    "    \n",
    "_ = ax[-1].set_xlabel(\"$x$\")\n",
    "_ = ax[-1].set_xticks([0, np.pi, 2*np.pi])\n",
    "_ = ax[-1].set_xticklabels([r\"0\", r\"$\\pi$\", r\"$2\\pi$\"])\n",
    "plt.tight_layout()\n",
    "plt.savefig(\"../figs/ROM/two_stream/POD_modes_1_M\" + str(M) + \".png\", dpi=200, bbox_inches='tight')"
   ]
  },
  {
   "cell_type": "code",
   "execution_count": null,
   "id": "fd68eb77-a03b-4419-9d46-a882ea3ad195",
   "metadata": {},
   "outputs": [],
   "source": [
    "# plot phase space evolution \n",
    "fig, ax = plt.subplots(nrows=6, sharex=True, figsize=(4, 12))\n",
    "for tt, ii in enumerate([6, 7, 8, 9, 10, 11]):\n",
    "    distribution1 = np.zeros((setup.Nx + 1, len(v)))\n",
    "    distribution2 = np.zeros((setup.Nx + 1, len(v)))\n",
    "    for jj in range(setup.Nv - M):\n",
    "        distribution1 += np.outer(np.append(U_e1_tensor[jj, :, ii], U_e1_tensor[jj, 0, ii]), psi_ln_aw(u_s=setup.u_e1, alpha_s=setup.alpha_e1, v=v, n=jj))\n",
    "        distribution2 += np.outer(np.append(U_e2_tensor[jj, :, ii], U_e2_tensor[jj, 0, ii]), psi_ln_aw(u_s=setup.u_e2, alpha_s=setup.alpha_e2, v=v, n=jj))\n",
    "    pos = ax[tt].contourf(x, v, (distribution1 + distribution2).T, cmap=\"RdBu\", vmax=np.max(distribution1), vmin=-np.max(distribution1), levels=30)\n",
    "    ax[tt].set_ylabel(\"$v$\")\n",
    "    ax[tt].set_yticks([-4, 0, 4])\n",
    "    ax[tt].set_title(\"mode \" + str(ii + 1), fontsize=14)\n",
    "    \n",
    "_ = ax[-1].set_xlabel(\"$x$\")\n",
    "_ = ax[-1].set_xticks([0, np.pi, 2*np.pi])\n",
    "_ = ax[-1].set_xticklabels([r\"0\", r\"$\\pi$\", r\"$2\\pi$\"])\n",
    "plt.tight_layout()\n",
    "plt.savefig(\"../figs/ROM/two_stream/POD_modes_2_M\" + str(M) + \".png\", dpi=200, bbox_inches='tight')"
   ]
  },
  {
   "cell_type": "code",
   "execution_count": null,
   "id": "79cef39f-9580-44c2-90af-d318e724a2ab",
   "metadata": {},
   "outputs": [],
   "source": [
    "# plot phase space evolution \n",
    "fig, ax = plt.subplots(nrows=6, sharex=True, figsize=(4, 12))\n",
    "for tt, ii in enumerate([12, 13, 14, 15, 16, 17]):\n",
    "    distribution1 = np.zeros((setup.Nx + 1, len(v)))\n",
    "    distribution2 = np.zeros((setup.Nx + 1, len(v)))\n",
    "    for jj in range(setup.Nv - M):\n",
    "        distribution1 += np.outer(np.append(U_e1_tensor[jj, :, ii], U_e1_tensor[jj, 0, ii]), psi_ln_aw(u_s=setup.u_e1, alpha_s=setup.alpha_e1, v=v, n=jj))\n",
    "        distribution2 += np.outer(np.append(U_e2_tensor[jj, :, ii], U_e2_tensor[jj, 0, ii]), psi_ln_aw(u_s=setup.u_e2, alpha_s=setup.alpha_e2, v=v, n=jj))\n",
    "    pos = ax[tt].contourf(x, v, (distribution1 + distribution2).T, cmap=\"RdBu\", vmax=np.max(distribution1), vmin=-np.max(distribution1), levels=30)\n",
    "    ax[tt].set_ylabel(\"$v$\")\n",
    "    ax[tt].set_yticks([-4, 0, 4])\n",
    "    ax[tt].set_title(\"mode \" + str(ii + 1), fontsize=14)\n",
    "    \n",
    "_ = ax[-1].set_xlabel(\"$x$\")\n",
    "_ = ax[-1].set_xticks([0, np.pi, 2*np.pi])\n",
    "_ = ax[-1].set_xticklabels([r\"0\", r\"$\\pi$\", r\"$2\\pi$\"])\n",
    "plt.tight_layout()\n",
    "plt.savefig(\"../figs/ROM/two_stream/POD_modes_3_M\" + str(M) + \".png\", dpi=200, bbox_inches='tight')"
   ]
  },
  {
   "cell_type": "code",
   "execution_count": null,
   "id": "83bd1a91-8d9f-48b8-9327-c3178f8988b5",
   "metadata": {},
   "outputs": [],
   "source": []
  }
 ],
 "metadata": {
  "kernelspec": {
   "display_name": "Python 3 (ipykernel)",
   "language": "python",
   "name": "python3"
  },
  "language_info": {
   "codemirror_mode": {
    "name": "ipython",
    "version": 3
   },
   "file_extension": ".py",
   "mimetype": "text/x-python",
   "name": "python",
   "nbconvert_exporter": "python",
   "pygments_lexer": "ipython3",
   "version": "3.9.19"
  }
 },
 "nbformat": 4,
 "nbformat_minor": 5
}
